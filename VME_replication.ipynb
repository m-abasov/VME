{
 "cells": [
  {
   "cell_type": "markdown",
   "id": "d0873b2b",
   "metadata": {
    "id": "d0873b2b"
   },
   "source": [
    "# Asness et al. (2013): Value-Momentum correlations¶"
   ]
  },
  {
   "cell_type": "markdown",
   "id": "60d246e1",
   "metadata": {
    "id": "60d246e1"
   },
   "source": [
    "Below I am replicating the following results from Asness et al.(2013):\n",
    "\n",
    "1. Value-Momentum correlations in Table II. Panel A (p. 948)\n",
    "2. PCA results in Figure 1 (p. 952)\n",
    "\n",
    "\n",
    "I used the data provided by Toby Moskowitz on [his personal website](https://faculty.som.yale.edu/tobymoskowitz/research/data/)."
   ]
  },
  {
   "cell_type": "code",
   "execution_count": null,
   "id": "184a4721",
   "metadata": {
    "id": "184a4721"
   },
   "outputs": [],
   "source": [
    "import numpy as np\n",
    "import pandas as pd\n",
    "from sklearn.decomposition import PCA\n",
    "import matplotlib.pyplot as plt"
   ]
  },
  {
   "cell_type": "markdown",
   "id": "56275614",
   "metadata": {},
   "source": [
    "## Value-Momentum (average) correlations"
   ]
  },
  {
   "cell_type": "code",
   "execution_count": null,
   "id": "49458ca2",
   "metadata": {
    "colab": {
     "base_uri": "https://localhost:8080/",
     "height": 374
    },
    "id": "49458ca2",
    "outputId": "7d10f97c-0c41-4236-cfd1-abf1d7baa7d0",
    "scrolled": false
   },
   "outputs": [],
   "source": [
    "import data_cleaning as dc\n",
    "import analysis\n",
    "\n",
    "# Read the data in\n",
    "factors = pd.read_csv(\"factors_data.csv\")\n",
    "\n",
    "portfolio_indexes = [6, 7, 14, 15]\n",
    "portfolio_labels = [\"StocksVAL\", \"NonStocksVAL\", \"StocksMOM\", \"NonStocksMOM\"]\n",
    "\n",
    "# Compute volatility weighted and unweighted quarterly returns for each of the Stock/Nonstock and Value/Momentum portfolios\n",
    "returns_unweighted = dc.portfolioSplits(factors, \"DATE\", portfolio_indexes, idx_num=4, idx_delta=2)\n",
    "returns_weighted_quarterly = dc.dfQuarterly(returns_unweighted, roll_window=36, min_count_req=4, ignore_nan=True)\n",
    "\n",
    "# Using these returns compute the (average) correlation matrix\n",
    "corrs = analysis.corrMatrix(returns_weighted_quarterly, returns_unweighted, portfolio_labels)\n",
    "\n",
    "corrs.style\n"
   ]
  },
  {
   "cell_type": "markdown",
   "id": "2ce6ac38",
   "metadata": {},
   "source": [
    "## First PC of Value and Momentum portfolios"
   ]
  },
  {
   "cell_type": "code",
   "execution_count": null,
   "id": "e2a1650a",
   "metadata": {
    "scrolled": true
   },
   "outputs": [],
   "source": [
    "# First PC for covariance matrix of Value and Momentum portfolio returns\n",
    "covMatrix_stocks = factors.iloc[:, 6:14].cov()\n",
    "pca_stocks = PCA()\n",
    "pca_stocks.fit(covMatrix_stocks)\n",
    "\n",
    "%matplotlib inline\n",
    "plt.bar(list(range(8)), pca_stocks.components_[0])\n",
    "fig_xticks = list(range(8))\n",
    "fig_labels = [\"USVAL\", \"USMOM\", \"UKVAL\", \"UKMOM\", \"EUVAL\", \"EUMOM\", \"JPVAL\", \"JPMOM\"]\n",
    "plt.xticks(ticks=fig_xticks, labels=fig_labels)\n",
    "plt.show()"
   ]
  },
  {
   "cell_type": "markdown",
   "id": "74e22718",
   "metadata": {},
   "source": [
    "## Alternative PC analysis"
   ]
  },
  {
   "cell_type": "markdown",
   "id": "ab90befa",
   "metadata": {},
   "source": [
    "I ran a few alternative interpretations, just to be sure that I did not do something wrong."
   ]
  },
  {
   "cell_type": "code",
   "execution_count": null,
   "id": "29b0b028",
   "metadata": {
    "scrolled": true
   },
   "outputs": [],
   "source": [
    "# First PC for covariance matrix of Value and Momentum portfolio returns\n",
    "for i, label in zip([6, 8], [\"Value\", \"Momentum\"]):\n",
    "    first_pc = analysis.portfolio_pca(factors, i, idx_num=4, idx_delta=2)\n",
    "    print(label + \" portfolio: \", first_pc)"
   ]
  },
  {
   "cell_type": "code",
   "execution_count": null,
   "id": "89964ded",
   "metadata": {},
   "outputs": [],
   "source": [
    "# First PC for Value and Momentum strategies in individual markets\n",
    "markets = [\"US\", \"UK\", \"EU\", \"Japan\"]\n",
    "for i, label in zip([6, 8, 10, 12], markets):\n",
    "    first_pc = analysis.portfolio_pca(factors, i, idx_num=2, idx_delta=2)\n",
    "    print(label + \" portfolio: \", first_pc)\n"
   ]
  }
 ],
 "metadata": {
  "colab": {
   "name": "Copy of VME_replication_v2.ipynb",
   "provenance": []
  },
  "kernelspec": {
   "display_name": "Python 3",
   "language": "python",
   "name": "python3"
  },
  "language_info": {
   "codemirror_mode": {
    "name": "ipython",
    "version": 3
   },
   "file_extension": ".py",
   "mimetype": "text/x-python",
   "name": "python",
   "nbconvert_exporter": "python",
   "pygments_lexer": "ipython3",
   "version": "3.8.8"
  }
 },
 "nbformat": 4,
 "nbformat_minor": 5
}
